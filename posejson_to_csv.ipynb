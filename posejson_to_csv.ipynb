{
 "cells": [
  {
   "cell_type": "code",
   "execution_count": 1,
   "metadata": {},
   "outputs": [],
   "source": [
    "import json\n",
    "import csv\n",
    "import os\n",
    "\n",
    "#debate = 1\n",
    "#debate = 3\n",
    "\n",
    "#candidate='clintonfiles_debate' + str(debate) + '/'\n",
    "#candidate='trumpfilesdebate_' + str(debate) + '/'\n"
   ]
  },
  {
   "cell_type": "code",
   "execution_count": 2,
   "metadata": {},
   "outputs": [
    {
     "name": "stdout",
     "output_type": "stream",
     "text": [
      "{'version': 1.2, 'people': [{'pose_keypoints_2d': [321.59, 172.804, 0.848088, 328.09, 294.135, 0.656286, 204.093, 285.005, 0.524774, 171.468, 433.824, 0.185619, 0, 0, 0, 457.321, 298.082, 0.424066, 0, 0, 0, 0, 0, 0, 0, 0, 0, 0, 0, 0, 0, 0, 0, 0, 0, 0, 0, 0, 0, 0, 0, 0, 0, 0, 0, 303.278, 153.205, 0.811901, 342.482, 151.9, 0.852113, 277.157, 170.15, 0.834099, 380.249, 167.581, 0.823005, 0, 0, 0, 0, 0, 0, 0, 0, 0, 0, 0, 0, 0, 0, 0, 0, 0, 0], 'face_keypoints_2d': [], 'hand_left_keypoints_2d': [], 'hand_right_keypoints_2d': [], 'pose_keypoints_3d': [], 'face_keypoints_3d': [], 'hand_left_keypoints_3d': [], 'hand_right_keypoints_3d': []}]}\n"
     ]
    }
   ],
   "source": [
    "#make header for csv rows\n",
    "header = ['frame']\n",
    "with open('op_results/trumpfiles_debate1/debate1_trimmed_trump_000000000000_keypoints.json') as json_data:\n",
    "    d = json.load(json_data)\n",
    "    print(d)\n",
    "    #generate header row names\n",
    "    allpoints = d['people']\n",
    "    for key in allpoints:\n",
    "        for k2 in key:\n",
    "            for i in range(1, len(key[k2]) + 1):\n",
    "                header.append(str(k2 + '_' + str(i)))\n",
    "            #print(len(key[k2]))\n",
    "#print(header)"
   ]
  },
  {
   "cell_type": "code",
   "execution_count": 7,
   "metadata": {},
   "outputs": [],
   "source": []
  },
  {
   "cell_type": "code",
   "execution_count": 4,
   "metadata": {},
   "outputs": [],
   "source": [
    "# print everything into csv containing results\n",
    "#csvOut = open('op_results/debate'+str(debate)+'_trump_op_fixed.csv', 'w')\n",
    "#out = csv.writer(csvOut)\n",
    "#out.writerow(header)\n",
    "#out.writerow(d.keys())\n",
    "debate = 1\n",
    "#debate = 3\n",
    "\n",
    "#candidate='clintonfiles_debate' + str(debate) + '/'\n",
    "\n",
    "#cand = 'trump'\n",
    "cand = 'clinton'\n",
    "\n",
    "candidate=cand + 'files_debate' + str(debate) + '/'\n",
    "\n",
    "#candidate='trumpfilesdebate_1-dont use' + '/'\n",
    "\n",
    "csvOut = open('op_results/debate'+str(debate)+'_' + cand + '_op_fixed_new.csv', 'w')\n",
    "out = csv.writer(csvOut)\n",
    "out.writerow(header)\n",
    "\n",
    "#path_to_json = 'op_results/imageexample/'\n",
    "path_to_json = 'op_results/' + candidate\n",
    "json_files = [pos_json for pos_json in os.listdir(path_to_json) if pos_json.endswith('.json')]\n",
    "json_files.sort()\n",
    "\n",
    "# add everything into\n",
    "for file in json_files:\n",
    "    filepath = path_to_json + file\n",
    "    frame = int(file[-27:-15])\n",
    "    \n",
    "    with open(filepath) as json_data:\n",
    "        d = json.load(json_data)\n",
    "        for p in d['people']:\n",
    "            #print(p['pose_keypoints_2d'])\n",
    "            thisrow = [frame] + p['pose_keypoints_2d']\n",
    "            out.writerow(thisrow)\n",
    "    \n",
    "    \n"
   ]
  },
  {
   "cell_type": "code",
   "execution_count": 6,
   "metadata": {},
   "outputs": [],
   "source": [
    "# #out.writerow(d.keys())\n",
    "# debate = 1\n",
    "# #debate = 3\n",
    "\n",
    "# #candidate='clintonfiles_debate' + str(debate) + '/'\n",
    "# candidate='trumpfiles_debate' + str(debate) + '/'\n",
    "\n",
    "# #csvOut = open('op_results/debate'+str(debate)+'_clinton_op_fixed_new.csv', 'w')\n",
    "# #out = csv.writer(csvOut)\n",
    "# #out.writerow(header)\n",
    "\n",
    "# #path_to_json = 'op_results/imageexample/'\n",
    "\n",
    "\n",
    "# path_to_json = 'op_results/' + candidate\n",
    "# #path_to_json = 'op_results/trumpfilesdebate_1/'\n",
    "# json_files = [pos_json for pos_json in os.listdir(path_to_json) if pos_json.endswith('.json')]\n",
    "\n",
    "\n"
   ]
  },
  {
   "cell_type": "code",
   "execution_count": 7,
   "metadata": {},
   "outputs": [],
   "source": [
    "json_files.sort()"
   ]
  },
  {
   "cell_type": "code",
   "execution_count": 15,
   "metadata": {},
   "outputs": [
    {
     "data": {
      "text/plain": [
       "3"
      ]
     },
     "execution_count": 15,
     "metadata": {},
     "output_type": "execute_result"
    }
   ],
   "source": [
    "int(json_files[3][-27:-15])"
   ]
  }
 ],
 "metadata": {
  "kernelspec": {
   "display_name": "Python 3",
   "language": "python",
   "name": "python3"
  },
  "language_info": {
   "codemirror_mode": {
    "name": "ipython",
    "version": 3
   },
   "file_extension": ".py",
   "mimetype": "text/x-python",
   "name": "python",
   "nbconvert_exporter": "python",
   "pygments_lexer": "ipython3",
   "version": "3.6.8"
  }
 },
 "nbformat": 4,
 "nbformat_minor": 2
}
